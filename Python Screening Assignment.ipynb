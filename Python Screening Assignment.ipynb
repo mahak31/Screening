{
 "cells": [
  {
   "cell_type": "code",
   "execution_count": 70,
   "id": "4b24f282",
   "metadata": {},
   "outputs": [],
   "source": [
    "# Program to replace a string in the file\n",
    "\n",
    "f = open(\"example.txt\", \"w\")\n",
    "f.write(\"This is a placement assignment\")\n",
    "f.close()\n",
    "\n",
    "f = open(\"example.txt\", \"r+\")\n",
    "l = f.readlines()\n",
    "c=0\n",
    "for i in l:\n",
    "    for j in i:\n",
    "        r = i.replace(\"placement\",\"screening\")\n",
    "        l = r\n",
    "    c+=1  \n",
    "f.truncate(0)\n",
    "f.writelines(l)\n",
    "f.close()\n"
   ]
  },
  {
   "cell_type": "code",
   "execution_count": 73,
   "id": "6e2f4a81",
   "metadata": {},
   "outputs": [
    {
     "name": "stdout",
     "output_type": "stream",
     "text": [
      "Camera is 50mp\n",
      "Camera is 60mp\n",
      "Camera is 70mp\n",
      "Camera is 100mp\n"
     ]
    }
   ],
   "source": [
    "# Python program to explain abstract class\n",
    "\n",
    "from abc import ABC, abstractmethod   \n",
    "class SmartPhone(ABC):   \n",
    "    def camera(self):   \n",
    "        pass  \n",
    "  \n",
    "class Samsung(SmartPhone):     \n",
    "        print(\"Camera is 50mp\")  \n",
    "        \n",
    "class Xiomi(SmartPhone):   \n",
    "    def camera(self):   \n",
    "        print(\"Camera is 60mp\")   \n",
    "        \n",
    "class Sony(SmartPhone):   \n",
    "     def camera(self):   \n",
    "        print(\"Camera is 70mp\")   \n",
    "  \n",
    "class Apple(SmartPhone):   \n",
    "    def camera(self):   \n",
    "            print(\"Camera is 100mp\")   \n",
    "          \n",
    "s = Samsung()   \n",
    "s.camera()   \n",
    "  \n",
    "x = Xiomi()   \n",
    "x.camera()   \n",
    "  \n",
    "so = Sony()   \n",
    "so.camera() \n",
    "\n",
    "a = Apple()   \n",
    "a.camera()  "
   ]
  },
  {
   "cell_type": "code",
   "execution_count": 74,
   "id": "b73d8865",
   "metadata": {},
   "outputs": [
    {
     "name": "stdout",
     "output_type": "stream",
     "text": [
      "30\n",
      "200\n",
      "0.5\n"
     ]
    }
   ],
   "source": [
    "# Program to demonstrate multiple inheritance\n",
    "\n",
    "class Calculation1:  \n",
    "    def Summation(self,a,b):  \n",
    "        return a+b;  \n",
    "class Calculation2:  \n",
    "    def Multiplication(self,a,b):  \n",
    "        return a*b;  \n",
    "class Derived(Calculation1,Calculation2):  \n",
    "    def Divide(self,a,b):  \n",
    "        return a/b;  \n",
    "d = Derived()  \n",
    "print(d.Summation(10,20))  \n",
    "print(d.Multiplication(10,20))  \n",
    "print(d.Divide(10,20))  "
   ]
  },
  {
   "cell_type": "code",
   "execution_count": 94,
   "id": "ecfee880",
   "metadata": {},
   "outputs": [
    {
     "name": "stdout",
     "output_type": "stream",
     "text": [
      "I got decorated\n",
      "I am ordinary\n"
     ]
    }
   ],
   "source": [
    "# Program to demonstrate use of Decorators\n",
    "\n",
    "def make_pretty(func):\n",
    "    def inner():\n",
    "        print(\"I got decorated\")\n",
    "        func()\n",
    "    return inner\n",
    "\n",
    "@make_pretty\n",
    "def ordinary():\n",
    "    print(\"I am ordinary\")\n",
    "    \n",
    "ordinary()"
   ]
  },
  {
   "cell_type": "code",
   "execution_count": null,
   "id": "fad3fbeb",
   "metadata": {},
   "outputs": [],
   "source": []
  }
 ],
 "metadata": {
  "kernelspec": {
   "display_name": "Python 3",
   "language": "python",
   "name": "python3"
  },
  "language_info": {
   "codemirror_mode": {
    "name": "ipython",
    "version": 3
   },
   "file_extension": ".py",
   "mimetype": "text/x-python",
   "name": "python",
   "nbconvert_exporter": "python",
   "pygments_lexer": "ipython3",
   "version": "3.8.8"
  }
 },
 "nbformat": 4,
 "nbformat_minor": 5
}
